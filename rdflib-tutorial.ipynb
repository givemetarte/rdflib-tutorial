{
 "cells": [
  {
   "cell_type": "markdown",
   "metadata": {},
   "source": [
    "# RDFLib Tutorial \n",
    "\n",
    "- 작성자: 박하람\n",
    "- 작성일시: 2022. 09. 05"
   ]
  },
  {
   "cell_type": "code",
   "execution_count": 105,
   "metadata": {},
   "outputs": [],
   "source": [
    "import numpy as np\n",
    "import pandas as pd \n",
    "from tqdm import tqdm\n",
    "\n",
    "from rdflib import Namespace, Literal, URIRef\n",
    "from rdflib.graph import Graph, ConjunctiveGraph\n",
    "from rdflib.namespace import CSVW, DC, DCAT, DCTERMS, DOAP, FOAF, ODRL2, ORG, OWL, \\\n",
    "                           PROF, PROV, RDF, RDFS, SDO, SH, SKOS, SOSA, SSN, TIME, \\\n",
    "                           VOID, XMLNS, XSD"
   ]
  },
  {
   "cell_type": "markdown",
   "metadata": {},
   "source": [
    "### 1. 데이터 불러오기"
   ]
  },
  {
   "cell_type": "code",
   "execution_count": 106,
   "metadata": {},
   "outputs": [
    {
     "data": {
      "text/html": [
       "<div>\n",
       "<style scoped>\n",
       "    .dataframe tbody tr th:only-of-type {\n",
       "        vertical-align: middle;\n",
       "    }\n",
       "\n",
       "    .dataframe tbody tr th {\n",
       "        vertical-align: top;\n",
       "    }\n",
       "\n",
       "    .dataframe thead th {\n",
       "        text-align: right;\n",
       "    }\n",
       "</style>\n",
       "<table border=\"1\" class=\"dataframe\">\n",
       "  <thead>\n",
       "    <tr style=\"text-align: right;\">\n",
       "      <th></th>\n",
       "      <th>목록키</th>\n",
       "      <th>목록유형</th>\n",
       "      <th>목록명</th>\n",
       "      <th>목록설명</th>\n",
       "      <th>조회수</th>\n",
       "      <th>분류체계</th>\n",
       "      <th>기관코드</th>\n",
       "      <th>기관명</th>\n",
       "      <th>국가중점여부</th>\n",
       "      <th>표준데이터여부</th>\n",
       "      <th>목록 등록일</th>\n",
       "      <th>목록 수정일</th>\n",
       "      <th>목록 URL</th>\n",
       "    </tr>\n",
       "  </thead>\n",
       "  <tbody>\n",
       "    <tr>\n",
       "      <th>0</th>\n",
       "      <td>15106236</td>\n",
       "      <td>API</td>\n",
       "      <td>중소벤처기업부_이노비즈확인서</td>\n",
       "      <td>이노비즈란 \"중소기업기본법\" 제2조제1항에 의한 중소기업으로 \"중소기업 기술혁신 촉...</td>\n",
       "      <td>1</td>\n",
       "      <td>산업고용</td>\n",
       "      <td>1421000</td>\n",
       "      <td>중소벤처기업부</td>\n",
       "      <td>N</td>\n",
       "      <td>N</td>\n",
       "      <td>2022-08-31</td>\n",
       "      <td>2022-08-31</td>\n",
       "      <td>https://www.data.go.kr/data/15106236/openapi.do</td>\n",
       "    </tr>\n",
       "    <tr>\n",
       "      <th>1</th>\n",
       "      <td>15106237</td>\n",
       "      <td>API</td>\n",
       "      <td>중소벤처기업부_공고목록정보</td>\n",
       "      <td>중소벤처기업부 산하/유관기관으로부터 수집하는 공고정보을 제공해 주는 서비스이며, 공...</td>\n",
       "      <td>1</td>\n",
       "      <td>산업고용</td>\n",
       "      <td>1421000</td>\n",
       "      <td>중소벤처기업부</td>\n",
       "      <td>N</td>\n",
       "      <td>N</td>\n",
       "      <td>2022-08-31</td>\n",
       "      <td>2022-08-31</td>\n",
       "      <td>https://www.data.go.kr/data/15106237/openapi.do</td>\n",
       "    </tr>\n",
       "    <tr>\n",
       "      <th>2</th>\n",
       "      <td>15106301</td>\n",
       "      <td>API</td>\n",
       "      <td>한국가스공사_충전소 운영정보 목록조회</td>\n",
       "      <td>수소유통전담기관에서 조사한 현재 운영중인 수소충전소 리스트 및 관리번호 목록을 제공...</td>\n",
       "      <td>7</td>\n",
       "      <td>산업고용</td>\n",
       "      <td>B551210</td>\n",
       "      <td>한국가스공사</td>\n",
       "      <td>N</td>\n",
       "      <td>N</td>\n",
       "      <td>2022-08-31</td>\n",
       "      <td>2022-08-31</td>\n",
       "      <td>https://www.data.go.kr/data/15106301/openapi.do</td>\n",
       "    </tr>\n",
       "    <tr>\n",
       "      <th>3</th>\n",
       "      <td>15106265</td>\n",
       "      <td>FILE</td>\n",
       "      <td>국민건강보험공단_수가코드별 진료현황</td>\n",
       "      <td>1. 수진기준(한의분류 제외, 약국 제외), 연령(연말기준)&lt;br/&gt;2. 건강보험 ...</td>\n",
       "      <td>2</td>\n",
       "      <td>보건의료</td>\n",
       "      <td>B550928</td>\n",
       "      <td>국민건강보험공단</td>\n",
       "      <td>N</td>\n",
       "      <td>N</td>\n",
       "      <td>2022-08-31</td>\n",
       "      <td>2022-08-31</td>\n",
       "      <td>https://www.data.go.kr/data/15106265/fileData.do</td>\n",
       "    </tr>\n",
       "    <tr>\n",
       "      <th>4</th>\n",
       "      <td>15106270</td>\n",
       "      <td>FILE</td>\n",
       "      <td>국민건강보험공단_해당 수가코드로 인한 입내원일수</td>\n",
       "      <td>1. 수진기준(한의분류 제외, 약국 제외), 연령(연말기준)&lt;br/&gt;2. 건강보험 ...</td>\n",
       "      <td>2</td>\n",
       "      <td>보건의료</td>\n",
       "      <td>B550928</td>\n",
       "      <td>국민건강보험공단</td>\n",
       "      <td>N</td>\n",
       "      <td>N</td>\n",
       "      <td>2022-08-31</td>\n",
       "      <td>2022-08-31</td>\n",
       "      <td>https://www.data.go.kr/data/15106270/fileData.do</td>\n",
       "    </tr>\n",
       "  </tbody>\n",
       "</table>\n",
       "</div>"
      ],
      "text/plain": [
       "        목록키  목록유형                         목록명  \\\n",
       "0  15106236   API             중소벤처기업부_이노비즈확인서   \n",
       "1  15106237   API              중소벤처기업부_공고목록정보   \n",
       "2  15106301   API        한국가스공사_충전소 운영정보 목록조회   \n",
       "3  15106265  FILE         국민건강보험공단_수가코드별 진료현황   \n",
       "4  15106270  FILE  국민건강보험공단_해당 수가코드로 인한 입내원일수   \n",
       "\n",
       "                                                목록설명  조회수  분류체계     기관코드  \\\n",
       "0  이노비즈란 \"중소기업기본법\" 제2조제1항에 의한 중소기업으로 \"중소기업 기술혁신 촉...   1   산업고용  1421000   \n",
       "1  중소벤처기업부 산하/유관기관으로부터 수집하는 공고정보을 제공해 주는 서비스이며, 공...   1   산업고용  1421000   \n",
       "2  수소유통전담기관에서 조사한 현재 운영중인 수소충전소 리스트 및 관리번호 목록을 제공...   7   산업고용  B551210   \n",
       "3  1. 수진기준(한의분류 제외, 약국 제외), 연령(연말기준)<br/>2. 건강보험 ...   2   보건의료  B550928   \n",
       "4  1. 수진기준(한의분류 제외, 약국 제외), 연령(연말기준)<br/>2. 건강보험 ...   2   보건의료  B550928   \n",
       "\n",
       "        기관명 국가중점여부 표준데이터여부      목록 등록일      목록 수정일  \\\n",
       "0   중소벤처기업부      N       N  2022-08-31  2022-08-31   \n",
       "1   중소벤처기업부      N       N  2022-08-31  2022-08-31   \n",
       "2    한국가스공사      N       N  2022-08-31  2022-08-31   \n",
       "3  국민건강보험공단      N       N  2022-08-31  2022-08-31   \n",
       "4  국민건강보험공단      N       N  2022-08-31  2022-08-31   \n",
       "\n",
       "                                             목록 URL  \n",
       "0   https://www.data.go.kr/data/15106236/openapi.do  \n",
       "1   https://www.data.go.kr/data/15106237/openapi.do  \n",
       "2   https://www.data.go.kr/data/15106301/openapi.do  \n",
       "3  https://www.data.go.kr/data/15106265/fileData.do  \n",
       "4  https://www.data.go.kr/data/15106270/fileData.do  "
      ]
     },
     "execution_count": 106,
     "metadata": {},
     "output_type": "execute_result"
    }
   ],
   "source": [
    "data = pd.read_csv(\"data/개방목록현황_8월.csv\", encoding=\"utf-8\", dtype=str)\n",
    "data = data.replace({np.nan : None})\n",
    "data.head()"
   ]
  },
  {
   "cell_type": "markdown",
   "metadata": {},
   "source": [
    "### 2. 데이터 파악하기"
   ]
  },
  {
   "cell_type": "code",
   "execution_count": 107,
   "metadata": {},
   "outputs": [
    {
     "name": "stdout",
     "output_type": "stream",
     "text": [
      "데이터의 행과 열은 (63468, 13)입니다.\n",
      "데이터의 컬럼명은 Index(['목록키', '목록유형', '목록명', '목록설명', '조회수', '분류체계', '기관코드', '기관명', '국가중점여부',\n",
      "       '표준데이터여부', '목록 등록일', '목록 수정일', '목록 URL'],\n",
      "      dtype='object')입니다.\n"
     ]
    }
   ],
   "source": [
    "print(f\"데이터의 행과 열은 {data.shape}입니다.\")\n",
    "print(f\"데이터의 컬럼명은 {data.columns}입니다.\")"
   ]
  },
  {
   "cell_type": "code",
   "execution_count": 108,
   "metadata": {},
   "outputs": [
    {
     "name": "stdout",
     "output_type": "stream",
     "text": [
      "고유한 목록키의 개수는 63468개입니다.\n"
     ]
    }
   ],
   "source": [
    "print(f\"고유한 목록키의 개수는 {len(data['목록키'].unique())}개입니다.\")"
   ]
  },
  {
   "cell_type": "code",
   "execution_count": 109,
   "metadata": {},
   "outputs": [
    {
     "data": {
      "text/plain": [
       "국가중점여부\n",
       "N    60621\n",
       "Y     2847\n",
       "Name: 목록키, dtype: int64"
      ]
     },
     "execution_count": 109,
     "metadata": {},
     "output_type": "execute_result"
    }
   ],
   "source": [
    "data.groupby([\"국가중점여부\"])['목록키'].count()"
   ]
  },
  {
   "cell_type": "code",
   "execution_count": 110,
   "metadata": {},
   "outputs": [
    {
     "data": {
      "text/plain": [
       "표준데이터여부\n",
       "N    63321\n",
       "Y      147\n",
       "Name: 목록키, dtype: int64"
      ]
     },
     "execution_count": 110,
     "metadata": {},
     "output_type": "execute_result"
    }
   ],
   "source": [
    "data.groupby([\"표준데이터여부\"])[\"목록키\"].count()"
   ]
  },
  {
   "cell_type": "code",
   "execution_count": 111,
   "metadata": {},
   "outputs": [],
   "source": [
    "data = data.drop([\"목록유형\", \"조회수\", \"분류체계\"], axis=1)"
   ]
  },
  {
   "cell_type": "code",
   "execution_count": 112,
   "metadata": {},
   "outputs": [],
   "source": [
    "data[data.columns] = data.apply(lambda x: x.str.strip())"
   ]
  },
  {
   "cell_type": "markdown",
   "metadata": {},
   "source": [
    "### 3. 데이터 변환하기"
   ]
  },
  {
   "cell_type": "markdown",
   "metadata": {},
   "source": [
    "#### 변환을 위한 함수 "
   ]
  },
  {
   "cell_type": "code",
   "execution_count": 113,
   "metadata": {},
   "outputs": [],
   "source": [
    "# namespace \n",
    "koor_def = \"http://vocab.datahub.kr/def/organization/\"\n",
    "koor_id = \"http://data.datahub.kr/id/organization/\"\n",
    "KOOR = Namespace(koor_def)\n",
    "\n",
    "dcat_id = \"http://data.datahub.kr/id/dcat/\"\n",
    "\n",
    "# function (convert data to rdf)\n",
    "def cell(store, s, p, df_col, datatype = None, lang = None):\n",
    "    if df_col != None:\n",
    "        store.add((s, p, Literal(df_col, datatype=datatype, lang = lang)))\n",
    "        \n",
    "def uri(store, s, p, df_col, objClass = None, objURI = None) :\n",
    "    if df_col != None :\n",
    "        obj = URIRef(objURI + df_col) \n",
    "        store.add((s, p, obj))\n",
    "        if objClass != None :\n",
    "            store.add((obj, RDF.type, objClass))"
   ]
  },
  {
   "cell_type": "code",
   "execution_count": 114,
   "metadata": {},
   "outputs": [
    {
     "name": "stderr",
     "output_type": "stream",
     "text": [
      "100%|██████████| 63468/63468 [00:16<00:00, 3811.19it/s]\n"
     ]
    },
    {
     "name": "stdout",
     "output_type": "stream",
     "text": [
      "총 576198 개의 트리플이 있습니다.\n",
      "CPU times: user 41.1 s, sys: 576 ms, total: 41.6 s\n",
      "Wall time: 41.8 s\n"
     ]
    }
   ],
   "source": [
    "%%time\n",
    "\n",
    "# generate Graph()\n",
    "g = Graph()\n",
    "g.bind(\"koor\", KOOR)\n",
    "g.bind(\"dcat\", DCAT)\n",
    "g.bind(\"dct\", DCTERMS)\n",
    "\n",
    "for idx, row in tqdm(data.iterrows(), total=data.shape[0]):\n",
    "    # base id \n",
    "    cat_core_uri = URIRef(dcat_id + \"national-cord-data-catalog\")\n",
    "    cat_stan_uri = URIRef(dcat_id + \"standard-data-catalog\")\n",
    "    ds_uri = URIRef(dcat_id + \"ds-\" +row[\"목록키\"])\n",
    "    dist_uri = URIRef(dcat_id + \"dt-\" + row[\"목록키\"])\n",
    "    orga_uri = URIRef(koor_id + row[\"기관코드\"])\n",
    "\n",
    "    # define uri type\n",
    "    g.add((cat_core_uri, RDF.type, DCAT.Catalog))\n",
    "    g.add((cat_stan_uri, RDF.type, DCAT.Catalog))\n",
    "    g.add((ds_uri, RDF.type, DCAT.Dataset))\n",
    "    g.add((dist_uri, RDF.type, DCAT.Distribution))\n",
    "    g.add((ds_uri, DCAT.distribution, dist_uri))\n",
    "\n",
    "    # dataset in catalog\n",
    "    if row[\"국가중점여부\"] == \"Y\":\n",
    "        g.add((cat_core_uri, DCAT.dataset, ds_uri))\n",
    "    \n",
    "    if row[\"표준데이터여부\"] == \"Y\":\n",
    "        g.add((cat_stan_uri, DCAT.dataset, ds_uri))\n",
    "\n",
    "    # catalog metadata\n",
    "    cell(g, cat_core_uri, DCTERMS.title, \"국가중점데이터 목록\")\n",
    "    cell(g, cat_stan_uri, DCTERMS.title, \"표준데이터 목록\")\n",
    "\n",
    "    # dataset metadata\n",
    "    cell(g, ds_uri, DCTERMS.title, row[\"목록명\"], lang=\"ko\")\n",
    "    cell(g, ds_uri, DCTERMS.description, row[\"목록설명\"], lang=\"ko\")\n",
    "    uri(g, ds_uri, DCTERMS.publisher, row[\"기관코드\"], objClass=KOOR.Organization, objURI=koor_id)\n",
    "    cell(g, orga_uri, RDFS.label, row[\"기관명\"], lang=\"ko\")\n",
    "    cell(g, ds_uri, DCTERMS.issued, row[\"목록 등록일\"], datatype=XSD.date)\n",
    "    cell(g, ds_uri, DCTERMS.modified, row[\"목록 수정일\"], datatype=XSD.date)\n",
    "    cell(g, dist_uri, DCAT.accessURL, row[\"목록 URL\"], datatype=XSD.anyURI)\n",
    "\n",
    "# the number of triples\n",
    "print(f\"총 {len(g)} 개의 트리플이 있습니다.\")\n",
    "\n",
    "# save as ttl\n",
    "g.serialize(destination=f\"data/data-go-kr-metadata-dcat.ttl\", format=\"ttl\")"
   ]
  },
  {
   "cell_type": "markdown",
   "metadata": {},
   "source": [
    "### 4. SPARQL 질의하기"
   ]
  },
  {
   "cell_type": "code",
   "execution_count": 115,
   "metadata": {},
   "outputs": [
    {
     "name": "stdout",
     "output_type": "stream",
     "text": [
      "고유한 데이터세트의 개수는 63468개입니다.\n"
     ]
    }
   ],
   "source": [
    "# 데이터세트 개수 구하기\n",
    "query = \"\"\"\n",
    "SELECT (COUNT(DISTINCT ?dataset) AS ?dataset_count)\n",
    "WHERE { \n",
    "    ?dataset a dcat:Dataset .\n",
    "}\n",
    "\"\"\"\n",
    "result = g.query(query)\n",
    "for row in result:\n",
    "    print(f\"고유한 데이터세트의 개수는 {row.dataset_count}개입니다.\")"
   ]
  },
  {
   "cell_type": "code",
   "execution_count": 116,
   "metadata": {},
   "outputs": [
    {
     "name": "stdout",
     "output_type": "stream",
     "text": [
      "표준데이터 목록의 데이터세트 개수는 147개입니다.\n",
      "국가중점데이터 목록의 데이터세트 개수는 2847개입니다.\n"
     ]
    }
   ],
   "source": [
    "# 표준데이터 카탈로그와 국가중점데이터 카탈로그에 속한 데이터세트 개수 구하기\n",
    "query = \"\"\"\n",
    "SELECT ?title (COUNT(DISTINCT ?dataset) AS ?dataset_count)\n",
    "WHERE { \n",
    "    ?catalog a dcat:Catalog ;\n",
    "        dcat:dataset ?dataset ;\n",
    "        dct:title ?title .\n",
    "} GROUP BY ?catalog\n",
    "\"\"\"\n",
    "result = g.query(query)\n",
    "for row in result:\n",
    "    print(f\"{row.title}의 데이터세트 개수는 {row.dataset_count}개입니다.\")"
   ]
  },
  {
   "cell_type": "code",
   "execution_count": 118,
   "metadata": {},
   "outputs": [
    {
     "name": "stdout",
     "output_type": "stream",
     "text": [
      "http://data.datahub.kr/id/dcat/ds-15087138 한국법제연구원_세계법령정보사이트DB 한국법제연구원 2021-09-02 2021-09-03 https://www.data.go.kr/data/15087138/fileData.do\n",
      "http://data.datahub.kr/id/dcat/ds-15033949 한국남부발전(주)_설계기술용역 시공도급계약 현황(삼척) 한국남부발전(주) 2021-03-19 2022-03-07 https://www.data.go.kr/data/15033949/fileData.do\n",
      "http://data.datahub.kr/id/dcat/ds-15086818 대구광역시_(비정형데이터)2021년 대구시 화보집4 대구광역시 2021-08-30 2021-08-30 https://www.data.go.kr/data/15086818/fileData.do\n",
      "http://data.datahub.kr/id/dcat/ds-15064648 건강보험심사평가원_보건의료빅데이터개방시스템_의료급여진료통계 건강보험심사평가원 2020-09-15 2021-09-22 https://www.data.go.kr/data/15064648/fileData.do\n",
      "http://data.datahub.kr/id/dcat/ds-15090954 강원도 원주시_원주시청홈페이지 관광포털메뉴 강원도 원주시 2021-09-29 2021-09-29 https://www.data.go.kr/data/15090954/fileData.do\n",
      "http://data.datahub.kr/id/dcat/ds-15039951 인천광역시 서구_식품접객업소 인천광역시 서구 2019-09-26 2021-09-09 https://www.data.go.kr/data/15039951/fileData.do\n",
      "http://data.datahub.kr/id/dcat/ds-15099429 경상남도 의령군_약국현황 경상남도 의령군 2022-03-18 2022-03-18 https://www.data.go.kr/data/15099429/fileData.do\n",
      "http://data.datahub.kr/id/dcat/ds-15048084 행정안전부_폭염 발생현황 행정안전부 2019-09-30 2021-10-21 https://www.data.go.kr/data/15048084/fileData.do\n",
      "http://data.datahub.kr/id/dcat/ds-3069922 고용노동부 (노동통계)지역별사업체노동력조사 고용노동부 2019-04-15 2021-09-09 https://www.data.go.kr/data/3069922/fileData.do\n",
      "http://data.datahub.kr/id/dcat/ds-15012779 한국남부발전(주)_풍황계측기 설치현황 한국남부발전(주) 2021-08-17 2022-08-16 https://www.data.go.kr/data/15012779/fileData.do\n"
     ]
    }
   ],
   "source": [
    "# 데이터세트의 메타데이터 구하기\n",
    "query = \"\"\"\n",
    "SELECT DISTINCT ?dataset ?title ?orgName ?issued ?modified ?accessURL\n",
    "WHERE { \n",
    "    ?dataset a dcat:Dataset ;\n",
    "        dct:title ?title ;\n",
    "        dct:publisher ?orgURI ;\n",
    "        dct:issued ?issued ;\n",
    "        dct:modified ?modified ;\n",
    "        dcat:distribution ?distribution .\n",
    "    ?orgURI rdfs:label ?orgName .\n",
    "    ?distribution dcat:accessURL ?accessURL .\n",
    "} LIMIT 10\n",
    "\"\"\"\n",
    "result = g.query(query)\n",
    "for row in result:\n",
    "    print(row.dataset, row.title, row.orgName, row.issued, row.modified, row.accessURL)"
   ]
  },
  {
   "cell_type": "code",
   "execution_count": 120,
   "metadata": {},
   "outputs": [
    {
     "name": "stdout",
     "output_type": "stream",
     "text": [
      "서울특별시의 데이터세트 개수는 2460개입니다.\n",
      "제주특별자치도의 데이터세트 개수는 1289개입니다.\n",
      "동북아역사재단의 데이터세트 개수는 1028개입니다.\n",
      "경기도의 데이터세트 개수는 1015개입니다.\n",
      "대전광역시의 데이터세트 개수는 991개입니다.\n",
      "국토교통부의 데이터세트 개수는 955개입니다.\n",
      "인천광역시의 데이터세트 개수는 780개입니다.\n",
      "행정안전부의 데이터세트 개수는 779개입니다.\n",
      "경상남도의 데이터세트 개수는 758개입니다.\n",
      "국가철도공단의 데이터세트 개수는 749개입니다.\n"
     ]
    }
   ],
   "source": [
    "# 데이터세트를 제공하는 상위 10개 기관 구하기\n",
    "query = \"\"\"\n",
    "SELECT ?orgName (COUNT(DISTINCT ?dataset) AS ?dataset_count)\n",
    "WHERE { \n",
    "    ?dataset a dcat:Dataset ;\n",
    "        dct:publisher ?org .\n",
    "    ?org rdfs:label ?orgName .\n",
    "} GROUP BY ?org\n",
    "ORDER BY DESC(?dataset_count)\n",
    "LIMIT 10\n",
    "\"\"\"\n",
    "result = g.query(query)\n",
    "for row in result:\n",
    "    print(f\"{row.orgName}의 데이터세트 개수는 {row.dataset_count}개입니다.\")"
   ]
  },
  {
   "cell_type": "code",
   "execution_count": null,
   "metadata": {},
   "outputs": [],
   "source": []
  }
 ],
 "metadata": {
  "kernelspec": {
   "display_name": "Python 3.9.13 64-bit",
   "language": "python",
   "name": "python3"
  },
  "language_info": {
   "codemirror_mode": {
    "name": "ipython",
    "version": 3
   },
   "file_extension": ".py",
   "mimetype": "text/x-python",
   "name": "python",
   "nbconvert_exporter": "python",
   "pygments_lexer": "ipython3",
   "version": "3.9.13"
  },
  "orig_nbformat": 4,
  "vscode": {
   "interpreter": {
    "hash": "b0fa6594d8f4cbf19f97940f81e996739fb7646882a419484c72d19e05852a7e"
   }
  }
 },
 "nbformat": 4,
 "nbformat_minor": 2
}
