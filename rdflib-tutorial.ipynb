{
 "cells": [
  {
   "cell_type": "markdown",
   "metadata": {},
   "source": [
    "# RDFLib Tutorial \n",
    "\n",
    "- 작성자: 박하람\n",
    "- 작성일자: 2022. 09. 05\n",
    "- 수정일자: 2023. 12. 04\n",
    "- 내용: 파이썬 라이브러리 RDFLib를 활용해 데이터를 RDF 형식으로 변환하기\n",
    "- 참고: [RDFLib를 사용해 데이터세트의 메타데이터를 DCAT으로 표현하기 1](https://www.blog.harampark.com/blog/rdflib-tutorial-dcat-1), [RDFLib를 사용해 데이터세트의 메타데이터를 DCAT으로 표현하기 2](https://www.blog.harampark.com/blog/rdflib-tutorial-dcat-2)"
   ]
  },
  {
   "cell_type": "markdown",
   "metadata": {},
   "source": [
    "### 데이터세트의 메타데이터\n",
    "\n",
    "- 공공데이터포털의 파일데이터 중 가장 활용도가 높은 데이터세트는 '한국고전번역원_한국문집총간_월고집(月皐集)'으로, '파일데이터 정보'에서 해당 데이터세트에 대한 메타데이터를 제공함\n",
    "    - 예: 파일데이터명, 분류체계, 제공기관, 관리부서명, 관리부서 전화번호, 업데이트 주기\n",
    "\n",
    "![월고집 데이터세트의 메타데이터](image/public-dataset-metadata.png)\n",
    "\n",
    "- 출처: https://www.data.go.kr/data/3074298/fileData.do\n",
    "\n",
    "### DCAT (Data Catalog Vocabulary)\n",
    "- 분산된 웹 환경에서 개방된 데이터 카탈로그를 기술하기 위한 RDF 어휘로, 공공데이터 분야에서 데이터세트, 데이터 서비스의 관리와 상호운용을 위해 광범위하게 사용되고 있음\n",
    "    - `dcat:Catalog`: 자원 (resource)에 대한 메타데이트를 표현하기 위한 클래스로, 데이터세트나 데이터 서비스가 포함된 집합을 기술함\n",
    "    - `dcat:Dataset`: 데이터세트의 일반적인 특징을 기술하기 위한 클래스 \n",
    "    - `dcat:DataService`: 데이터를 제공하는 서비스를 기술하기 위한 클래스 \n",
    "    - `dcat:Distribution`: 데이터세트의 서로 다른 표현 형식 (예: JSON, CSV, XSLX)을 기술하기 위한 클래스\n",
    "\n",
    "- 명세: https://www.w3.org/TR/vocab-dcat-2/\n"
   ]
  },
  {
   "cell_type": "markdown",
   "metadata": {},
   "source": [
    "### 0. 모듈 설치와 불러오기"
   ]
  },
  {
   "cell_type": "code",
   "execution_count": 2,
   "metadata": {},
   "outputs": [
    {
     "name": "stdout",
     "output_type": "stream",
     "text": [
      "Requirement already satisfied: rdflib in /Users/harampark/Desktop/labs/2.internship/2023/address-realtime-analysis/.conda/lib/python3.9/site-packages (6.3.2)\n",
      "Requirement already satisfied: isodate<0.7.0,>=0.6.0 in /Users/harampark/Desktop/labs/2.internship/2023/address-realtime-analysis/.conda/lib/python3.9/site-packages (from rdflib) (0.6.1)\n",
      "Requirement already satisfied: pyparsing<4,>=2.1.0 in /Users/harampark/Desktop/labs/2.internship/2023/address-realtime-analysis/.conda/lib/python3.9/site-packages (from rdflib) (3.0.9)\n",
      "Requirement already satisfied: six in /Users/harampark/Desktop/labs/2.internship/2023/address-realtime-analysis/.conda/lib/python3.9/site-packages (from isodate<0.7.0,>=0.6.0->rdflib) (1.16.0)\n"
     ]
    }
   ],
   "source": [
    "# rdflib 모듈을 설치하기 위한 코드\n",
    "!pip install rdflib"
   ]
  },
  {
   "cell_type": "code",
   "execution_count": 3,
   "metadata": {},
   "outputs": [],
   "source": [
    "# 필요한 모듈 불러오기\n",
    "import numpy as np\n",
    "import pandas as pd \n",
    "from tqdm import tqdm"
   ]
  },
  {
   "cell_type": "markdown",
   "metadata": {},
   "source": [
    "### 1. 데이터 불러오기\n",
    "\n",
    "- 원데이터 출처: [공공데이터포털의 공공데이터 11월 개방현황](https://www.data.go.kr/bbs/ntc/selectNotice.do?pageIndex=1&originId=NOTICE_0000000003409&atchFileId=FILE_000000002847531&nttApiYn=N&searchCondition2=2&searchKeyword1=)\n",
    "    - 공공데이터포털은 해당 포털이 개방하고 있는 데이터세트의 목록을 제공하고 있음"
   ]
  },
  {
   "cell_type": "code",
   "execution_count": 4,
   "metadata": {},
   "outputs": [
    {
     "data": {
      "text/html": [
       "<div>\n",
       "<style scoped>\n",
       "    .dataframe tbody tr th:only-of-type {\n",
       "        vertical-align: middle;\n",
       "    }\n",
       "\n",
       "    .dataframe tbody tr th {\n",
       "        vertical-align: top;\n",
       "    }\n",
       "\n",
       "    .dataframe thead th {\n",
       "        text-align: right;\n",
       "    }\n",
       "</style>\n",
       "<table border=\"1\" class=\"dataframe\">\n",
       "  <thead>\n",
       "    <tr style=\"text-align: right;\">\n",
       "      <th></th>\n",
       "      <th>목록키</th>\n",
       "      <th>목록유형</th>\n",
       "      <th>목록명</th>\n",
       "      <th>목록설명</th>\n",
       "      <th>조회수</th>\n",
       "      <th>분류체계</th>\n",
       "      <th>기관코드</th>\n",
       "      <th>기관명</th>\n",
       "      <th>국가중점여부</th>\n",
       "      <th>표준데이터여부</th>\n",
       "      <th>목록 등록일</th>\n",
       "      <th>목록 수정일</th>\n",
       "      <th>목록 URL</th>\n",
       "      <th>다운로드_활용건수</th>\n",
       "      <th>키워드</th>\n",
       "    </tr>\n",
       "  </thead>\n",
       "  <tbody>\n",
       "    <tr>\n",
       "      <th>0</th>\n",
       "      <td>15125221</td>\n",
       "      <td>FILE</td>\n",
       "      <td>경기도 가평군_주정차위반단속위치현황</td>\n",
       "      <td>가평군의 주정차 위반 단속 위치 현황입니다. 집계년도, 시군명, 관리기관명, 단속일...</td>\n",
       "      <td>(NULL)</td>\n",
       "      <td>교통및물류 - 도로</td>\n",
       "      <td>4160000</td>\n",
       "      <td>경기도 가평군</td>\n",
       "      <td>N</td>\n",
       "      <td>N</td>\n",
       "      <td>2023-11-30</td>\n",
       "      <td>2023-11-30</td>\n",
       "      <td>https://www.data.go.kr/data/15125221/fileData.do</td>\n",
       "      <td>0</td>\n",
       "      <td>주정차단속,단속장소,불법주차</td>\n",
       "    </tr>\n",
       "    <tr>\n",
       "      <th>1</th>\n",
       "      <td>15125222</td>\n",
       "      <td>FILE</td>\n",
       "      <td>한국자활복지개발원_자활근로 참여자 최초보장구분별 현황</td>\n",
       "      <td>시도별, 최초보장구분별 누적 자활근로 참여자 수&lt;br/&gt;  - 최초보장구분 : 일반...</td>\n",
       "      <td>(NULL)</td>\n",
       "      <td>사회복지 - 취약계층지원</td>\n",
       "      <td>B554042</td>\n",
       "      <td>한국자활복지개발원</td>\n",
       "      <td>N</td>\n",
       "      <td>N</td>\n",
       "      <td>2023-11-30</td>\n",
       "      <td>2023-11-30</td>\n",
       "      <td>https://www.data.go.kr/data/15125222/fileData.do</td>\n",
       "      <td>0</td>\n",
       "      <td>자활,자활참여자,최초보장구분</td>\n",
       "    </tr>\n",
       "    <tr>\n",
       "      <th>2</th>\n",
       "      <td>15125223</td>\n",
       "      <td>FILE</td>\n",
       "      <td>한국자활복지개발원_자활근로참여자 연령별 현황</td>\n",
       "      <td>시도별, 연령별 누적 자활근로 참여자 수&lt;br/&gt;  - 연령구분 : 19세이하, 2...</td>\n",
       "      <td>1</td>\n",
       "      <td>사회복지 - 취약계층지원</td>\n",
       "      <td>B554042</td>\n",
       "      <td>한국자활복지개발원</td>\n",
       "      <td>N</td>\n",
       "      <td>N</td>\n",
       "      <td>2023-11-30</td>\n",
       "      <td>2023-11-30</td>\n",
       "      <td>https://www.data.go.kr/data/15125223/fileData.do</td>\n",
       "      <td>0</td>\n",
       "      <td>자활근로,자활근로 참여자,연령</td>\n",
       "    </tr>\n",
       "    <tr>\n",
       "      <th>3</th>\n",
       "      <td>15125228</td>\n",
       "      <td>FILE</td>\n",
       "      <td>과학기술정보통신부_우주산업 위성활용 부문 매출 및 수출입액</td>\n",
       "      <td>공공데이터포털에 기 제공되고 있는 우주산업실태조사 내 위성활용 부문 매출 및 수입,...</td>\n",
       "      <td>4</td>\n",
       "      <td>과학기술 - 과학기술연구</td>\n",
       "      <td>1721000</td>\n",
       "      <td>과학기술정보통신부</td>\n",
       "      <td>N</td>\n",
       "      <td>N</td>\n",
       "      <td>2023-11-30</td>\n",
       "      <td>2023-11-30</td>\n",
       "      <td>https://www.data.go.kr/data/15125228/fileData.do</td>\n",
       "      <td>1</td>\n",
       "      <td>우주산업,우주산업실태조사,위성활용</td>\n",
       "    </tr>\n",
       "    <tr>\n",
       "      <th>4</th>\n",
       "      <td>15125240</td>\n",
       "      <td>FILE</td>\n",
       "      <td>한국자활복지개발원_자활근로 참여자 사업유형별 현황</td>\n",
       "      <td>시도별, 사업유형별 누적 자활근로 참여자 수&lt;br/&gt;  - 유형 : 시장진입형사업단...</td>\n",
       "      <td>40</td>\n",
       "      <td>사회복지 - 취약계층지원</td>\n",
       "      <td>B554042</td>\n",
       "      <td>한국자활복지개발원</td>\n",
       "      <td>N</td>\n",
       "      <td>N</td>\n",
       "      <td>2023-11-30</td>\n",
       "      <td>2023-11-30</td>\n",
       "      <td>https://www.data.go.kr/data/15125240/fileData.do</td>\n",
       "      <td>0</td>\n",
       "      <td>자활,자활근로,사업유형</td>\n",
       "    </tr>\n",
       "  </tbody>\n",
       "</table>\n",
       "</div>"
      ],
      "text/plain": [
       "        목록키  목록유형                               목록명   \n",
       "0  15125221  FILE               경기도 가평군_주정차위반단속위치현황  \\\n",
       "1  15125222  FILE     한국자활복지개발원_자활근로 참여자 최초보장구분별 현황   \n",
       "2  15125223  FILE          한국자활복지개발원_자활근로참여자 연령별 현황   \n",
       "3  15125228  FILE  과학기술정보통신부_우주산업 위성활용 부문 매출 및 수출입액   \n",
       "4  15125240  FILE       한국자활복지개발원_자활근로 참여자 사업유형별 현황   \n",
       "\n",
       "                                                목록설명     조회수           분류체계   \n",
       "0  가평군의 주정차 위반 단속 위치 현황입니다. 집계년도, 시군명, 관리기관명, 단속일...  (NULL)     교통및물류 - 도로  \\\n",
       "1  시도별, 최초보장구분별 누적 자활근로 참여자 수<br/>  - 최초보장구분 : 일반...  (NULL)  사회복지 - 취약계층지원   \n",
       "2  시도별, 연령별 누적 자활근로 참여자 수<br/>  - 연령구분 : 19세이하, 2...       1  사회복지 - 취약계층지원   \n",
       "3  공공데이터포털에 기 제공되고 있는 우주산업실태조사 내 위성활용 부문 매출 및 수입,...       4  과학기술 - 과학기술연구   \n",
       "4  시도별, 사업유형별 누적 자활근로 참여자 수<br/>  - 유형 : 시장진입형사업단...      40  사회복지 - 취약계층지원   \n",
       "\n",
       "      기관코드        기관명 국가중점여부 표준데이터여부      목록 등록일      목록 수정일   \n",
       "0  4160000    경기도 가평군      N       N  2023-11-30  2023-11-30  \\\n",
       "1  B554042  한국자활복지개발원      N       N  2023-11-30  2023-11-30   \n",
       "2  B554042  한국자활복지개발원      N       N  2023-11-30  2023-11-30   \n",
       "3  1721000  과학기술정보통신부      N       N  2023-11-30  2023-11-30   \n",
       "4  B554042  한국자활복지개발원      N       N  2023-11-30  2023-11-30   \n",
       "\n",
       "                                             목록 URL 다운로드_활용건수   \n",
       "0  https://www.data.go.kr/data/15125221/fileData.do         0  \\\n",
       "1  https://www.data.go.kr/data/15125222/fileData.do         0   \n",
       "2  https://www.data.go.kr/data/15125223/fileData.do         0   \n",
       "3  https://www.data.go.kr/data/15125228/fileData.do         1   \n",
       "4  https://www.data.go.kr/data/15125240/fileData.do         0   \n",
       "\n",
       "                  키워드  \n",
       "0     주정차단속,단속장소,불법주차  \n",
       "1     자활,자활참여자,최초보장구분  \n",
       "2    자활근로,자활근로 참여자,연령  \n",
       "3  우주산업,우주산업실태조사,위성활용  \n",
       "4        자활,자활근로,사업유형  "
      ]
     },
     "execution_count": 4,
     "metadata": {},
     "output_type": "execute_result"
    }
   ],
   "source": [
    "data = pd.read_csv(\"data/개방목록현황_11월.csv\", encoding=\"utf-8\", dtype=str)\n",
    "data = data.replace({np.nan : None})\n",
    "data.head()"
   ]
  },
  {
   "cell_type": "code",
   "execution_count": 5,
   "metadata": {},
   "outputs": [
    {
     "name": "stdout",
     "output_type": "stream",
     "text": [
      "<class 'pandas.core.frame.DataFrame'>\n",
      "RangeIndex: 77419 entries, 0 to 77418\n",
      "Data columns (total 15 columns):\n",
      " #   Column     Non-Null Count  Dtype \n",
      "---  ------     --------------  ----- \n",
      " 0   목록키        77419 non-null  object\n",
      " 1   목록유형       77419 non-null  object\n",
      " 2   목록명        77419 non-null  object\n",
      " 3   목록설명       77419 non-null  object\n",
      " 4   조회수        77419 non-null  object\n",
      " 5   분류체계       77419 non-null  object\n",
      " 6   기관코드       77419 non-null  object\n",
      " 7   기관명        77419 non-null  object\n",
      " 8   국가중점여부     77419 non-null  object\n",
      " 9   표준데이터여부    77419 non-null  object\n",
      " 10  목록 등록일     77419 non-null  object\n",
      " 11  목록 수정일     77419 non-null  object\n",
      " 12  목록 URL     77419 non-null  object\n",
      " 13  다운로드_활용건수  77419 non-null  object\n",
      " 14  키워드        77419 non-null  object\n",
      "dtypes: object(15)\n",
      "memory usage: 8.9+ MB\n"
     ]
    }
   ],
   "source": [
    "data.info()"
   ]
  },
  {
   "cell_type": "markdown",
   "metadata": {},
   "source": [
    "### 2. 데이터 파악하기"
   ]
  },
  {
   "cell_type": "code",
   "execution_count": 6,
   "metadata": {},
   "outputs": [
    {
     "name": "stdout",
     "output_type": "stream",
     "text": [
      "데이터의 행과 열은 (77419, 15)입니다.\n",
      "데이터의 컬럼명은 Index(['목록키', '목록유형', '목록명', '목록설명', '조회수', '분류체계', '기관코드', '기관명', '국가중점여부',\n",
      "       '표준데이터여부', '목록 등록일', '목록 수정일', '목록 URL', '다운로드_활용건수', '키워드'],\n",
      "      dtype='object')입니다.\n"
     ]
    }
   ],
   "source": [
    "print(f\"데이터의 행과 열은 {data.shape}입니다.\")\n",
    "print(f\"데이터의 컬럼명은 {data.columns}입니다.\")"
   ]
  },
  {
   "cell_type": "code",
   "execution_count": 7,
   "metadata": {},
   "outputs": [
    {
     "name": "stdout",
     "output_type": "stream",
     "text": [
      "고유한 목록키의 개수는 77419개입니다.\n"
     ]
    }
   ],
   "source": [
    "print(f\"고유한 목록키의 개수는 {len(data['목록키'].unique())}개입니다.\")"
   ]
  },
  {
   "cell_type": "code",
   "execution_count": 8,
   "metadata": {},
   "outputs": [],
   "source": [
    "data[data.columns] = data.apply(lambda x: x.str.strip())"
   ]
  },
  {
   "cell_type": "markdown",
   "metadata": {},
   "source": [
    "### 3. 데이터 변환하기\n",
    "\n",
    "- [RDFLib Docs](https://rdflib.readthedocs.io/en/stable/gettingstarted.html)"
   ]
  },
  {
   "cell_type": "code",
   "execution_count": 9,
   "metadata": {},
   "outputs": [],
   "source": [
    "# URI 생성에 필요한 함수 불러오기\n",
    "from rdflib import Namespace, Literal, URIRef\n",
    "# 데이터 변환 후 담을 저장소\n",
    "from rdflib.graph import Graph\n",
    "# rdflib에 내장된 네임스페이스 불러오기\n",
    "from rdflib.namespace import CSVW, DC, DCAT, DCTERMS, DOAP, FOAF, ODRL2, ORG, OWL, \\\n",
    "                           PROF, PROV, RDF, RDFS, SDO, SH, SKOS, SOSA, SSN, TIME, \\\n",
    "                           VOID, XMLNS, XSD"
   ]
  },
  {
   "cell_type": "code",
   "execution_count": 14,
   "metadata": {},
   "outputs": [
    {
     "name": "stderr",
     "output_type": "stream",
     "text": [
      "  0%|          | 10/77419 [00:00<01:07, 1138.58it/s]"
     ]
    },
    {
     "name": "stdout",
     "output_type": "stream",
     "text": [
      "총 50 개의 트리플이 있습니다.\n",
      "--- printing raw triples ---\n",
      "(rdflib.term.URIRef('http://data.test.com/id/dcat/15125221'), rdflib.term.URIRef('http://purl.org/dc/terms/modified'), rdflib.term.Literal('2023-11-30', datatype=rdflib.term.URIRef('http://www.w3.org/2001/XMLSchema#date')))\n",
      "(rdflib.term.URIRef('http://data.test.com/id/dcat/15125221'), rdflib.term.URIRef('http://purl.org/dc/terms/title'), rdflib.term.Literal('경기도 가평군_주정차위반단속위치현황', datatype=rdflib.term.URIRef('http://www.w3.org/2001/XMLSchema#string')))\n",
      "(rdflib.term.URIRef('http://data.test.com/id/dcat/15125103'), rdflib.term.URIRef('http://purl.org/dc/terms/issued'), rdflib.term.Literal('2023-11-23', datatype=rdflib.term.URIRef('http://www.w3.org/2001/XMLSchema#date')))\n",
      "(rdflib.term.URIRef('http://data.test.com/id/dcat/15125207'), rdflib.term.URIRef('http://purl.org/dc/terms/modified'), rdflib.term.Literal('2023-11-30', datatype=rdflib.term.URIRef('http://www.w3.org/2001/XMLSchema#date')))\n",
      "(rdflib.term.URIRef('http://data.test.com/id/dcat/15118572'), rdflib.term.URIRef('http://purl.org/dc/terms/issued'), rdflib.term.Literal('2023-08-14', datatype=rdflib.term.URIRef('http://www.w3.org/2001/XMLSchema#date')))\n",
      "(rdflib.term.URIRef('http://data.test.com/id/dcat/15125240'), rdflib.term.URIRef('http://www.w3.org/ns/dcat#accessURL'), rdflib.term.Literal('https://www.data.go.kr/data/15125240/fileData.do', datatype=rdflib.term.URIRef('http://www.w3.org/2001/XMLSchema#anyURI')))\n",
      "(rdflib.term.URIRef('http://data.test.com/id/dcat/15125228'), rdflib.term.URIRef('http://www.w3.org/1999/02/22-rdf-syntax-ns#type'), rdflib.term.URIRef('http://www.w3.org/ns/dcat#Dataset'))\n",
      "(rdflib.term.URIRef('http://data.test.com/id/dcat/15125221'), rdflib.term.URIRef('http://www.w3.org/ns/dcat#accessURL'), rdflib.term.Literal('https://www.data.go.kr/data/15125221/fileData.do', datatype=rdflib.term.URIRef('http://www.w3.org/2001/XMLSchema#anyURI')))\n",
      "(rdflib.term.URIRef('http://data.test.com/id/dcat/15125240'), rdflib.term.URIRef('http://www.w3.org/1999/02/22-rdf-syntax-ns#type'), rdflib.term.URIRef('http://www.w3.org/ns/dcat#Dataset'))\n",
      "(rdflib.term.URIRef('http://data.test.com/id/dcat/15118572'), rdflib.term.URIRef('http://www.w3.org/ns/dcat#accessURL'), rdflib.term.Literal('https://www.data.go.kr/data/15118572/fileData.do', datatype=rdflib.term.URIRef('http://www.w3.org/2001/XMLSchema#anyURI')))\n",
      "(rdflib.term.URIRef('http://data.test.com/id/dcat/15125103'), rdflib.term.URIRef('http://purl.org/dc/terms/modified'), rdflib.term.Literal('2023-11-30', datatype=rdflib.term.URIRef('http://www.w3.org/2001/XMLSchema#date')))\n",
      "(rdflib.term.URIRef('http://data.test.com/id/dcat/15125138'), rdflib.term.URIRef('http://purl.org/dc/terms/modified'), rdflib.term.Literal('2023-11-30', datatype=rdflib.term.URIRef('http://www.w3.org/2001/XMLSchema#date')))\n",
      "(rdflib.term.URIRef('http://data.test.com/id/dcat/15125228'), rdflib.term.URIRef('http://purl.org/dc/terms/issued'), rdflib.term.Literal('2023-11-30', datatype=rdflib.term.URIRef('http://www.w3.org/2001/XMLSchema#date')))\n",
      "(rdflib.term.URIRef('http://data.test.com/id/dcat/15125240'), rdflib.term.URIRef('http://purl.org/dc/terms/issued'), rdflib.term.Literal('2023-11-30', datatype=rdflib.term.URIRef('http://www.w3.org/2001/XMLSchema#date')))\n",
      "(rdflib.term.URIRef('http://data.test.com/id/dcat/15125207'), rdflib.term.URIRef('http://purl.org/dc/terms/title'), rdflib.term.Literal('한국철도공사_서울역 KTX 및 무궁화 승하차 인원', datatype=rdflib.term.URIRef('http://www.w3.org/2001/XMLSchema#string')))\n",
      "(rdflib.term.URIRef('http://data.test.com/id/dcat/15125207'), rdflib.term.URIRef('http://www.w3.org/ns/dcat#accessURL'), rdflib.term.Literal('https://www.data.go.kr/data/15125207/fileData.do', datatype=rdflib.term.URIRef('http://www.w3.org/2001/XMLSchema#anyURI')))\n",
      "(rdflib.term.URIRef('http://data.test.com/id/dcat/15125223'), rdflib.term.URIRef('http://www.w3.org/1999/02/22-rdf-syntax-ns#type'), rdflib.term.URIRef('http://www.w3.org/ns/dcat#Dataset'))\n",
      "(rdflib.term.URIRef('http://data.test.com/id/dcat/15118572'), rdflib.term.URIRef('http://purl.org/dc/terms/title'), rdflib.term.Literal('경상남도 거창군_65세 이상 노인인구 현황', datatype=rdflib.term.URIRef('http://www.w3.org/2001/XMLSchema#string')))\n",
      "(rdflib.term.URIRef('http://data.test.com/id/dcat/15125207'), rdflib.term.URIRef('http://purl.org/dc/terms/issued'), rdflib.term.Literal('2023-11-29', datatype=rdflib.term.URIRef('http://www.w3.org/2001/XMLSchema#date')))\n",
      "(rdflib.term.URIRef('http://data.test.com/id/dcat/15125222'), rdflib.term.URIRef('http://www.w3.org/1999/02/22-rdf-syntax-ns#type'), rdflib.term.URIRef('http://www.w3.org/ns/dcat#Dataset'))\n",
      "(rdflib.term.URIRef('http://data.test.com/id/dcat/15125190'), rdflib.term.URIRef('http://purl.org/dc/terms/issued'), rdflib.term.Literal('2023-11-28', datatype=rdflib.term.URIRef('http://www.w3.org/2001/XMLSchema#date')))\n",
      "(rdflib.term.URIRef('http://data.test.com/id/dcat/15125223'), rdflib.term.URIRef('http://purl.org/dc/terms/title'), rdflib.term.Literal('한국자활복지개발원_자활근로참여자 연령별 현황', datatype=rdflib.term.URIRef('http://www.w3.org/2001/XMLSchema#string')))\n",
      "(rdflib.term.URIRef('http://data.test.com/id/dcat/15125190'), rdflib.term.URIRef('http://www.w3.org/1999/02/22-rdf-syntax-ns#type'), rdflib.term.URIRef('http://www.w3.org/ns/dcat#Dataset'))\n",
      "(rdflib.term.URIRef('http://data.test.com/id/dcat/15125190'), rdflib.term.URIRef('http://purl.org/dc/terms/title'), rdflib.term.Literal('서울특별시_시 자치구 실외흡연실 설치 현황', datatype=rdflib.term.URIRef('http://www.w3.org/2001/XMLSchema#string')))\n",
      "(rdflib.term.URIRef('http://data.test.com/id/dcat/15125228'), rdflib.term.URIRef('http://purl.org/dc/terms/modified'), rdflib.term.Literal('2023-11-30', datatype=rdflib.term.URIRef('http://www.w3.org/2001/XMLSchema#date')))\n",
      "(rdflib.term.URIRef('http://data.test.com/id/dcat/15118572'), rdflib.term.URIRef('http://www.w3.org/1999/02/22-rdf-syntax-ns#type'), rdflib.term.URIRef('http://www.w3.org/ns/dcat#Dataset'))\n",
      "(rdflib.term.URIRef('http://data.test.com/id/dcat/15125223'), rdflib.term.URIRef('http://purl.org/dc/terms/issued'), rdflib.term.Literal('2023-11-30', datatype=rdflib.term.URIRef('http://www.w3.org/2001/XMLSchema#date')))\n",
      "(rdflib.term.URIRef('http://data.test.com/id/dcat/15125240'), rdflib.term.URIRef('http://purl.org/dc/terms/title'), rdflib.term.Literal('한국자활복지개발원_자활근로 참여자 사업유형별 현황', datatype=rdflib.term.URIRef('http://www.w3.org/2001/XMLSchema#string')))\n",
      "(rdflib.term.URIRef('http://data.test.com/id/dcat/15125222'), rdflib.term.URIRef('http://purl.org/dc/terms/issued'), rdflib.term.Literal('2023-11-30', datatype=rdflib.term.URIRef('http://www.w3.org/2001/XMLSchema#date')))\n",
      "(rdflib.term.URIRef('http://data.test.com/id/dcat/15125240'), rdflib.term.URIRef('http://purl.org/dc/terms/modified'), rdflib.term.Literal('2023-11-30', datatype=rdflib.term.URIRef('http://www.w3.org/2001/XMLSchema#date')))\n",
      "(rdflib.term.URIRef('http://data.test.com/id/dcat/15125222'), rdflib.term.URIRef('http://www.w3.org/ns/dcat#accessURL'), rdflib.term.Literal('https://www.data.go.kr/data/15125222/fileData.do', datatype=rdflib.term.URIRef('http://www.w3.org/2001/XMLSchema#anyURI')))\n",
      "(rdflib.term.URIRef('http://data.test.com/id/dcat/15125222'), rdflib.term.URIRef('http://purl.org/dc/terms/modified'), rdflib.term.Literal('2023-11-30', datatype=rdflib.term.URIRef('http://www.w3.org/2001/XMLSchema#date')))\n",
      "(rdflib.term.URIRef('http://data.test.com/id/dcat/15125207'), rdflib.term.URIRef('http://www.w3.org/1999/02/22-rdf-syntax-ns#type'), rdflib.term.URIRef('http://www.w3.org/ns/dcat#Dataset'))\n",
      "(rdflib.term.URIRef('http://data.test.com/id/dcat/15125138'), rdflib.term.URIRef('http://purl.org/dc/terms/title'), rdflib.term.Literal('광주광역시 광산구_행정동별불법주정차단속건수', datatype=rdflib.term.URIRef('http://www.w3.org/2001/XMLSchema#string')))\n",
      "(rdflib.term.URIRef('http://data.test.com/id/dcat/15125228'), rdflib.term.URIRef('http://purl.org/dc/terms/title'), rdflib.term.Literal('과학기술정보통신부_우주산업 위성활용 부문 매출 및 수출입액', datatype=rdflib.term.URIRef('http://www.w3.org/2001/XMLSchema#string')))\n",
      "(rdflib.term.URIRef('http://data.test.com/id/dcat/15125190'), rdflib.term.URIRef('http://purl.org/dc/terms/modified'), rdflib.term.Literal('2023-11-30', datatype=rdflib.term.URIRef('http://www.w3.org/2001/XMLSchema#date')))\n",
      "(rdflib.term.URIRef('http://data.test.com/id/dcat/15125190'), rdflib.term.URIRef('http://www.w3.org/ns/dcat#accessURL'), rdflib.term.Literal('https://www.data.go.kr/data/15125190/fileData.do', datatype=rdflib.term.URIRef('http://www.w3.org/2001/XMLSchema#anyURI')))\n",
      "(rdflib.term.URIRef('http://data.test.com/id/dcat/15125221'), rdflib.term.URIRef('http://www.w3.org/1999/02/22-rdf-syntax-ns#type'), rdflib.term.URIRef('http://www.w3.org/ns/dcat#Dataset'))\n",
      "(rdflib.term.URIRef('http://data.test.com/id/dcat/15125138'), rdflib.term.URIRef('http://www.w3.org/ns/dcat#accessURL'), rdflib.term.Literal('https://www.data.go.kr/data/15125138/fileData.do', datatype=rdflib.term.URIRef('http://www.w3.org/2001/XMLSchema#anyURI')))\n",
      "(rdflib.term.URIRef('http://data.test.com/id/dcat/15125103'), rdflib.term.URIRef('http://www.w3.org/1999/02/22-rdf-syntax-ns#type'), rdflib.term.URIRef('http://www.w3.org/ns/dcat#Dataset'))\n",
      "(rdflib.term.URIRef('http://data.test.com/id/dcat/15125223'), rdflib.term.URIRef('http://www.w3.org/ns/dcat#accessURL'), rdflib.term.Literal('https://www.data.go.kr/data/15125223/fileData.do', datatype=rdflib.term.URIRef('http://www.w3.org/2001/XMLSchema#anyURI')))\n",
      "(rdflib.term.URIRef('http://data.test.com/id/dcat/15125223'), rdflib.term.URIRef('http://purl.org/dc/terms/modified'), rdflib.term.Literal('2023-11-30', datatype=rdflib.term.URIRef('http://www.w3.org/2001/XMLSchema#date')))\n",
      "(rdflib.term.URIRef('http://data.test.com/id/dcat/15125222'), rdflib.term.URIRef('http://purl.org/dc/terms/title'), rdflib.term.Literal('한국자활복지개발원_자활근로 참여자 최초보장구분별 현황', datatype=rdflib.term.URIRef('http://www.w3.org/2001/XMLSchema#string')))\n",
      "(rdflib.term.URIRef('http://data.test.com/id/dcat/15125228'), rdflib.term.URIRef('http://www.w3.org/ns/dcat#accessURL'), rdflib.term.Literal('https://www.data.go.kr/data/15125228/fileData.do', datatype=rdflib.term.URIRef('http://www.w3.org/2001/XMLSchema#anyURI')))\n",
      "(rdflib.term.URIRef('http://data.test.com/id/dcat/15125138'), rdflib.term.URIRef('http://www.w3.org/1999/02/22-rdf-syntax-ns#type'), rdflib.term.URIRef('http://www.w3.org/ns/dcat#Dataset'))\n",
      "(rdflib.term.URIRef('http://data.test.com/id/dcat/15125221'), rdflib.term.URIRef('http://purl.org/dc/terms/issued'), rdflib.term.Literal('2023-11-30', datatype=rdflib.term.URIRef('http://www.w3.org/2001/XMLSchema#date')))\n",
      "(rdflib.term.URIRef('http://data.test.com/id/dcat/15125103'), rdflib.term.URIRef('http://purl.org/dc/terms/title'), rdflib.term.Literal('충청남도 보령시_목재문화체험장체험품목', datatype=rdflib.term.URIRef('http://www.w3.org/2001/XMLSchema#string')))\n",
      "(rdflib.term.URIRef('http://data.test.com/id/dcat/15118572'), rdflib.term.URIRef('http://purl.org/dc/terms/modified'), rdflib.term.Literal('2023-11-30', datatype=rdflib.term.URIRef('http://www.w3.org/2001/XMLSchema#date')))\n",
      "(rdflib.term.URIRef('http://data.test.com/id/dcat/15125138'), rdflib.term.URIRef('http://purl.org/dc/terms/issued'), rdflib.term.Literal('2023-11-27', datatype=rdflib.term.URIRef('http://www.w3.org/2001/XMLSchema#date')))\n",
      "(rdflib.term.URIRef('http://data.test.com/id/dcat/15125103'), rdflib.term.URIRef('http://www.w3.org/ns/dcat#accessURL'), rdflib.term.Literal('https://www.data.go.kr/data/15125103/fileData.do', datatype=rdflib.term.URIRef('http://www.w3.org/2001/XMLSchema#anyURI')))\n",
      "CPU times: user 14 ms, sys: 5.33 ms, total: 19.4 ms\n",
      "Wall time: 23.6 ms\n"
     ]
    },
    {
     "name": "stderr",
     "output_type": "stream",
     "text": [
      "\n"
     ]
    },
    {
     "data": {
      "text/plain": [
       "<Graph identifier=Na0e271aaabf24a63ac18d52df803c36a (<class 'rdflib.graph.Graph'>)>"
      ]
     },
     "execution_count": 14,
     "metadata": {},
     "output_type": "execute_result"
    }
   ],
   "source": [
    "%%time\n",
    "\n",
    "# dcat 표현을 위한 base uri\n",
    "dcat_id = \"http://data.test.com/id/dcat/\"\n",
    "\n",
    "# generate Graph()\n",
    "g = Graph()\n",
    "# 어휘와 접두어를 매핑해주는 역할\n",
    "g.bind(\"dcat\", DCAT)\n",
    "g.bind(\"dct\", DCTERMS)\n",
    "\n",
    "for idx, row in tqdm(data[:10].iterrows(), total=data.shape[0]):\n",
    "    # base id \n",
    "    # example: http://data.test.com/id/dcat/목록키\n",
    "    ds_uri = URIRef(dcat_id + row[\"목록키\"])\n",
    "\n",
    "    # define uri type\n",
    "    g.add((ds_uri, RDF.type, DCAT.Dataset))\n",
    "\n",
    "    # dataset metadata\n",
    "    g.add((ds_uri, DCTERMS.title, Literal(row[\"목록명\"], datatype=XSD.string)))\n",
    "    g.add((ds_uri, DCTERMS.issued, Literal(row[\"목록 등록일\"], datatype=XSD.date)))\n",
    "    g.add((ds_uri, DCTERMS.modified, Literal(row[\"목록 수정일\"], datatype=XSD.date)))\n",
    "    g.add((ds_uri, DCAT.accessURL, Literal(row[\"목록 URL\"], datatype=XSD.anyURI)))\n",
    "\n",
    "    # 실습1: 목록 설명을 DCTERMS의 description으로 표현해보기\n",
    "\n",
    "    # 실습2: 키워드를 DCAT의 속성 keyword로 표현해보기 (단, 키워드는 쉼표 기준으로 분절되어 DCAT.keyword로 표현되어야 함)\n",
    "    # 예: <http://data.test.com/id/dcat/15118572> dcat:keyword \"65세\"^^xsd:string, \"노인\"^^xsd:string, \"인구\"^^xsd:string .\n",
    "    # 힌트: print(row[\"키워드\"])\n",
    "\n",
    "# the number of triples\n",
    "print(f\"총 {len(g)} 개의 트리플이 있습니다.\")\n",
    "\n",
    "# print triples\n",
    "# print(\"--- printing raw triples ---\")\n",
    "# for s, p, o in g:\n",
    "#     print((s, p, o))\n",
    "\n",
    "# import pprint\n",
    "# for stmt in g:\n",
    "#     pprint.pprint(stmt)\n",
    "\n",
    "# save as ttl\n",
    "g.serialize(destination=f\"data/data-go-kr-metadata-dcat.ttl\", format=\"ttl\")"
   ]
  },
  {
   "cell_type": "markdown",
   "metadata": {},
   "source": [
    "### 4. SPARQL 질의하기"
   ]
  },
  {
   "cell_type": "code",
   "execution_count": 11,
   "metadata": {},
   "outputs": [
    {
     "name": "stdout",
     "output_type": "stream",
     "text": [
      "고유한 데이터세트의 개수는 10개입니다.\n"
     ]
    }
   ],
   "source": [
    "# 데이터세트 개수 구하기\n",
    "query = \"\"\"\n",
    "SELECT (COUNT(DISTINCT ?dataset) AS ?dataset_count)\n",
    "WHERE { \n",
    "    ?dataset a dcat:Dataset .\n",
    "}\n",
    "\"\"\"\n",
    "result = g.query(query)\n",
    "for row in result:\n",
    "    print(f\"고유한 데이터세트의 개수는 {row.dataset_count}개입니다.\")"
   ]
  },
  {
   "cell_type": "code",
   "execution_count": 12,
   "metadata": {},
   "outputs": [
    {
     "name": "stdout",
     "output_type": "stream",
     "text": [
      "http://data.test.com/id/dcat/15125221 경기도 가평군_주정차위반단속위치현황 2023-11-30 2023-11-30 https://www.data.go.kr/data/15125221/fileData.do\n",
      "http://data.test.com/id/dcat/15125222 한국자활복지개발원_자활근로 참여자 최초보장구분별 현황 2023-11-30 2023-11-30 https://www.data.go.kr/data/15125222/fileData.do\n",
      "http://data.test.com/id/dcat/15125223 한국자활복지개발원_자활근로참여자 연령별 현황 2023-11-30 2023-11-30 https://www.data.go.kr/data/15125223/fileData.do\n",
      "http://data.test.com/id/dcat/15125228 과학기술정보통신부_우주산업 위성활용 부문 매출 및 수출입액 2023-11-30 2023-11-30 https://www.data.go.kr/data/15125228/fileData.do\n",
      "http://data.test.com/id/dcat/15125240 한국자활복지개발원_자활근로 참여자 사업유형별 현황 2023-11-30 2023-11-30 https://www.data.go.kr/data/15125240/fileData.do\n",
      "http://data.test.com/id/dcat/15125207 한국철도공사_서울역 KTX 및 무궁화 승하차 인원 2023-11-29 2023-11-30 https://www.data.go.kr/data/15125207/fileData.do\n",
      "http://data.test.com/id/dcat/15125190 서울특별시_시 자치구 실외흡연실 설치 현황 2023-11-28 2023-11-30 https://www.data.go.kr/data/15125190/fileData.do\n",
      "http://data.test.com/id/dcat/15125138 광주광역시 광산구_행정동별불법주정차단속건수 2023-11-27 2023-11-30 https://www.data.go.kr/data/15125138/fileData.do\n",
      "http://data.test.com/id/dcat/15125103 충청남도 보령시_목재문화체험장체험품목 2023-11-23 2023-11-30 https://www.data.go.kr/data/15125103/fileData.do\n",
      "http://data.test.com/id/dcat/15118572 경상남도 거창군_65세 이상 노인인구 현황 2023-08-14 2023-11-30 https://www.data.go.kr/data/15118572/fileData.do\n"
     ]
    }
   ],
   "source": [
    "# 데이터세트의 메타데이터 구하기\n",
    "query = \"\"\"\n",
    "SELECT DISTINCT ?dataset ?title ?issued ?modified ?accessURL\n",
    "WHERE { \n",
    "    ?dataset a dcat:Dataset ;\n",
    "        dct:title ?title ;\n",
    "        dct:issued ?issued ;\n",
    "        dct:modified ?modified ;\n",
    "        dcat:accessURL ?accessURL .\n",
    "} LIMIT 10\n",
    "\"\"\"\n",
    "result = g.query(query)\n",
    "for row in result:\n",
    "    print(row.dataset, row.title, row.issued, row.modified, row.accessURL)"
   ]
  }
 ],
 "metadata": {
  "kernelspec": {
   "display_name": "Python 3.9.13 64-bit",
   "language": "python",
   "name": "python3"
  },
  "language_info": {
   "codemirror_mode": {
    "name": "ipython",
    "version": 3
   },
   "file_extension": ".py",
   "mimetype": "text/x-python",
   "name": "python",
   "nbconvert_exporter": "python",
   "pygments_lexer": "ipython3",
   "version": "3.9.16"
  },
  "orig_nbformat": 4,
  "vscode": {
   "interpreter": {
    "hash": "b0fa6594d8f4cbf19f97940f81e996739fb7646882a419484c72d19e05852a7e"
   }
  }
 },
 "nbformat": 4,
 "nbformat_minor": 2
}
