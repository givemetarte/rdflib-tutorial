{
 "cells": [
  {
   "cell_type": "markdown",
   "metadata": {},
   "source": [
    "# RDFLib Tutorial \n",
    "\n",
    "- 작성자: 박하람\n",
    "- 작성일자: 2022. 09. 05\n",
    "- 수정일자: 2023. 12. 04\n",
    "- 내용: 파이썬 라이브러리 RDFLib를 활용해 데이터를 RDF 형식으로 변환하기\n",
    "- 참고: [RDFLib를 사용해 데이터세트의 메타데이터를 DCAT으로 표현하기 1](https://www.blog.harampark.com/blog/rdflib-tutorial-dcat-1), [RDFLib를 사용해 데이터세트의 메타데이터를 DCAT으로 표현하기 2](https://www.blog.harampark.com/blog/rdflib-tutorial-dcat-2)"
   ]
  },
  {
   "cell_type": "markdown",
   "metadata": {},
   "source": [
    "### 데이터세트의 메타데이터\n",
    "\n",
    "- 공공데이터포털의 파일데이터 중 가장 활용도가 높은 데이터세트는 '한국고전번역원_한국문집총간_월고집(月皐集)'으로, '파일데이터 정보'에서 해당 데이터세트에 대한 메타데이터를 제공함\n",
    "    - 예: 파일데이터명, 분류체계, 제공기관, 관리부서명, 관리부서 전화번호, 업데이트 주기\n",
    "\n",
    "![월고집 데이터세트의 메타데이터](image/public-dataset-metadata.png)\n",
    "\n",
    "- 출처: https://www.data.go.kr/data/3074298/fileData.do\n",
    "\n",
    "### DCAT (Data Catalog Vocabulary)\n",
    "- 분산된 웹 환경에서 개방된 데이터 카탈로그를 기술하기 위한 RDF 어휘로, 공공데이터 분야에서 데이터세트, 데이터 서비스의 관리와 상호운용을 위해 광범위하게 사용되고 있음\n",
    "    - `dcat:Catalog`: 자원 (resource)에 대한 메타데이트를 표현하기 위한 클래스로, 데이터세트나 데이터 서비스가 포함된 집합을 기술함\n",
    "    - `dcat:Dataset`: 데이터세트의 일반적인 특징을 기술하기 위한 클래스 \n",
    "    - `dcat:DataService`: 데이터를 제공하는 서비스를 기술하기 위한 클래스 \n",
    "    - `dcat:Distribution`: 데이터세트의 서로 다른 표현 형식 (예: JSON, CSV, XSLX)을 기술하기 위한 클래스\n",
    "\n",
    "- 명세: https://www.w3.org/TR/vocab-dcat-2/\n"
   ]
  },
  {
   "cell_type": "markdown",
   "metadata": {},
   "source": [
    "### 0. 모듈 설치와 불러오기"
   ]
  },
  {
   "cell_type": "code",
   "execution_count": 1,
   "metadata": {},
   "outputs": [
    {
     "name": "stdout",
     "output_type": "stream",
     "text": [
      "Requirement already satisfied: rdflib in /Users/harampark/Desktop/labs/2.internship/2023/address-realtime-analysis/.conda/lib/python3.9/site-packages (6.3.2)\n",
      "Requirement already satisfied: isodate<0.7.0,>=0.6.0 in /Users/harampark/Desktop/labs/2.internship/2023/address-realtime-analysis/.conda/lib/python3.9/site-packages (from rdflib) (0.6.1)\n",
      "Requirement already satisfied: pyparsing<4,>=2.1.0 in /Users/harampark/Desktop/labs/2.internship/2023/address-realtime-analysis/.conda/lib/python3.9/site-packages (from rdflib) (3.0.9)\n",
      "Requirement already satisfied: six in /Users/harampark/Desktop/labs/2.internship/2023/address-realtime-analysis/.conda/lib/python3.9/site-packages (from isodate<0.7.0,>=0.6.0->rdflib) (1.16.0)\n"
     ]
    }
   ],
   "source": [
    "# rdflib 모듈을 설치하기 위한 코드\n",
    "!pip install rdflib"
   ]
  },
  {
   "cell_type": "code",
   "execution_count": 12,
   "metadata": {},
   "outputs": [],
   "source": [
    "# 필요한 모듈 불러오기\n",
    "import numpy as np\n",
    "import pandas as pd \n",
    "from tqdm import tqdm\n",
    "\n",
    "from rdflib import Namespace, Literal, URIRef\n",
    "from rdflib.graph import Graph\n",
    "from rdflib.namespace import CSVW, DC, DCAT, DCTERMS, DOAP, FOAF, ODRL2, ORG, OWL, \\\n",
    "                           PROF, PROV, RDF, RDFS, SDO, SH, SKOS, SOSA, SSN, TIME, \\\n",
    "                           VOID, XMLNS, XSD"
   ]
  },
  {
   "cell_type": "markdown",
   "metadata": {},
   "source": [
    "### 1. 데이터 불러오기\n",
    "\n",
    "- 원데이터 출처: [공공데이터포털의 공공데이터 11월 개방현황](https://www.data.go.kr/bbs/ntc/selectNotice.do?pageIndex=1&originId=NOTICE_0000000003409&atchFileId=FILE_000000002847531&nttApiYn=N&searchCondition2=2&searchKeyword1=)\n",
    "    - 공공데이터포털은 해당 포털이 개방하고 있는 데이터세트의 목록을 제공하고 있음"
   ]
  },
  {
   "cell_type": "code",
   "execution_count": 3,
   "metadata": {},
   "outputs": [
    {
     "data": {
      "text/html": [
       "<div>\n",
       "<style scoped>\n",
       "    .dataframe tbody tr th:only-of-type {\n",
       "        vertical-align: middle;\n",
       "    }\n",
       "\n",
       "    .dataframe tbody tr th {\n",
       "        vertical-align: top;\n",
       "    }\n",
       "\n",
       "    .dataframe thead th {\n",
       "        text-align: right;\n",
       "    }\n",
       "</style>\n",
       "<table border=\"1\" class=\"dataframe\">\n",
       "  <thead>\n",
       "    <tr style=\"text-align: right;\">\n",
       "      <th></th>\n",
       "      <th>목록키</th>\n",
       "      <th>목록유형</th>\n",
       "      <th>목록명</th>\n",
       "      <th>목록설명</th>\n",
       "      <th>조회수</th>\n",
       "      <th>분류체계</th>\n",
       "      <th>기관코드</th>\n",
       "      <th>기관명</th>\n",
       "      <th>국가중점여부</th>\n",
       "      <th>표준데이터여부</th>\n",
       "      <th>목록 등록일</th>\n",
       "      <th>목록 수정일</th>\n",
       "      <th>목록 URL</th>\n",
       "      <th>다운로드_활용건수</th>\n",
       "      <th>키워드</th>\n",
       "    </tr>\n",
       "  </thead>\n",
       "  <tbody>\n",
       "    <tr>\n",
       "      <th>0</th>\n",
       "      <td>15125221</td>\n",
       "      <td>FILE</td>\n",
       "      <td>경기도 가평군_주정차위반단속위치현황</td>\n",
       "      <td>가평군의 주정차 위반 단속 위치 현황입니다. 집계년도, 시군명, 관리기관명, 단속일...</td>\n",
       "      <td>(NULL)</td>\n",
       "      <td>교통및물류 - 도로</td>\n",
       "      <td>4160000</td>\n",
       "      <td>경기도 가평군</td>\n",
       "      <td>N</td>\n",
       "      <td>N</td>\n",
       "      <td>2023-11-30</td>\n",
       "      <td>2023-11-30</td>\n",
       "      <td>https://www.data.go.kr/data/15125221/fileData.do</td>\n",
       "      <td>0</td>\n",
       "      <td>주정차단속,단속장소,불법주차</td>\n",
       "    </tr>\n",
       "    <tr>\n",
       "      <th>1</th>\n",
       "      <td>15125222</td>\n",
       "      <td>FILE</td>\n",
       "      <td>한국자활복지개발원_자활근로 참여자 최초보장구분별 현황</td>\n",
       "      <td>시도별, 최초보장구분별 누적 자활근로 참여자 수&lt;br/&gt;  - 최초보장구분 : 일반...</td>\n",
       "      <td>(NULL)</td>\n",
       "      <td>사회복지 - 취약계층지원</td>\n",
       "      <td>B554042</td>\n",
       "      <td>한국자활복지개발원</td>\n",
       "      <td>N</td>\n",
       "      <td>N</td>\n",
       "      <td>2023-11-30</td>\n",
       "      <td>2023-11-30</td>\n",
       "      <td>https://www.data.go.kr/data/15125222/fileData.do</td>\n",
       "      <td>0</td>\n",
       "      <td>자활,자활참여자,최초보장구분</td>\n",
       "    </tr>\n",
       "    <tr>\n",
       "      <th>2</th>\n",
       "      <td>15125223</td>\n",
       "      <td>FILE</td>\n",
       "      <td>한국자활복지개발원_자활근로참여자 연령별 현황</td>\n",
       "      <td>시도별, 연령별 누적 자활근로 참여자 수&lt;br/&gt;  - 연령구분 : 19세이하, 2...</td>\n",
       "      <td>1</td>\n",
       "      <td>사회복지 - 취약계층지원</td>\n",
       "      <td>B554042</td>\n",
       "      <td>한국자활복지개발원</td>\n",
       "      <td>N</td>\n",
       "      <td>N</td>\n",
       "      <td>2023-11-30</td>\n",
       "      <td>2023-11-30</td>\n",
       "      <td>https://www.data.go.kr/data/15125223/fileData.do</td>\n",
       "      <td>0</td>\n",
       "      <td>자활근로,자활근로 참여자,연령</td>\n",
       "    </tr>\n",
       "    <tr>\n",
       "      <th>3</th>\n",
       "      <td>15125228</td>\n",
       "      <td>FILE</td>\n",
       "      <td>과학기술정보통신부_우주산업 위성활용 부문 매출 및 수출입액</td>\n",
       "      <td>공공데이터포털에 기 제공되고 있는 우주산업실태조사 내 위성활용 부문 매출 및 수입,...</td>\n",
       "      <td>4</td>\n",
       "      <td>과학기술 - 과학기술연구</td>\n",
       "      <td>1721000</td>\n",
       "      <td>과학기술정보통신부</td>\n",
       "      <td>N</td>\n",
       "      <td>N</td>\n",
       "      <td>2023-11-30</td>\n",
       "      <td>2023-11-30</td>\n",
       "      <td>https://www.data.go.kr/data/15125228/fileData.do</td>\n",
       "      <td>1</td>\n",
       "      <td>우주산업,우주산업실태조사,위성활용</td>\n",
       "    </tr>\n",
       "    <tr>\n",
       "      <th>4</th>\n",
       "      <td>15125240</td>\n",
       "      <td>FILE</td>\n",
       "      <td>한국자활복지개발원_자활근로 참여자 사업유형별 현황</td>\n",
       "      <td>시도별, 사업유형별 누적 자활근로 참여자 수&lt;br/&gt;  - 유형 : 시장진입형사업단...</td>\n",
       "      <td>40</td>\n",
       "      <td>사회복지 - 취약계층지원</td>\n",
       "      <td>B554042</td>\n",
       "      <td>한국자활복지개발원</td>\n",
       "      <td>N</td>\n",
       "      <td>N</td>\n",
       "      <td>2023-11-30</td>\n",
       "      <td>2023-11-30</td>\n",
       "      <td>https://www.data.go.kr/data/15125240/fileData.do</td>\n",
       "      <td>0</td>\n",
       "      <td>자활,자활근로,사업유형</td>\n",
       "    </tr>\n",
       "  </tbody>\n",
       "</table>\n",
       "</div>"
      ],
      "text/plain": [
       "        목록키  목록유형                               목록명   \n",
       "0  15125221  FILE               경기도 가평군_주정차위반단속위치현황  \\\n",
       "1  15125222  FILE     한국자활복지개발원_자활근로 참여자 최초보장구분별 현황   \n",
       "2  15125223  FILE          한국자활복지개발원_자활근로참여자 연령별 현황   \n",
       "3  15125228  FILE  과학기술정보통신부_우주산업 위성활용 부문 매출 및 수출입액   \n",
       "4  15125240  FILE       한국자활복지개발원_자활근로 참여자 사업유형별 현황   \n",
       "\n",
       "                                                목록설명     조회수           분류체계   \n",
       "0  가평군의 주정차 위반 단속 위치 현황입니다. 집계년도, 시군명, 관리기관명, 단속일...  (NULL)     교통및물류 - 도로  \\\n",
       "1  시도별, 최초보장구분별 누적 자활근로 참여자 수<br/>  - 최초보장구분 : 일반...  (NULL)  사회복지 - 취약계층지원   \n",
       "2  시도별, 연령별 누적 자활근로 참여자 수<br/>  - 연령구분 : 19세이하, 2...       1  사회복지 - 취약계층지원   \n",
       "3  공공데이터포털에 기 제공되고 있는 우주산업실태조사 내 위성활용 부문 매출 및 수입,...       4  과학기술 - 과학기술연구   \n",
       "4  시도별, 사업유형별 누적 자활근로 참여자 수<br/>  - 유형 : 시장진입형사업단...      40  사회복지 - 취약계층지원   \n",
       "\n",
       "      기관코드        기관명 국가중점여부 표준데이터여부      목록 등록일      목록 수정일   \n",
       "0  4160000    경기도 가평군      N       N  2023-11-30  2023-11-30  \\\n",
       "1  B554042  한국자활복지개발원      N       N  2023-11-30  2023-11-30   \n",
       "2  B554042  한국자활복지개발원      N       N  2023-11-30  2023-11-30   \n",
       "3  1721000  과학기술정보통신부      N       N  2023-11-30  2023-11-30   \n",
       "4  B554042  한국자활복지개발원      N       N  2023-11-30  2023-11-30   \n",
       "\n",
       "                                             목록 URL 다운로드_활용건수   \n",
       "0  https://www.data.go.kr/data/15125221/fileData.do         0  \\\n",
       "1  https://www.data.go.kr/data/15125222/fileData.do         0   \n",
       "2  https://www.data.go.kr/data/15125223/fileData.do         0   \n",
       "3  https://www.data.go.kr/data/15125228/fileData.do         1   \n",
       "4  https://www.data.go.kr/data/15125240/fileData.do         0   \n",
       "\n",
       "                  키워드  \n",
       "0     주정차단속,단속장소,불법주차  \n",
       "1     자활,자활참여자,최초보장구분  \n",
       "2    자활근로,자활근로 참여자,연령  \n",
       "3  우주산업,우주산업실태조사,위성활용  \n",
       "4        자활,자활근로,사업유형  "
      ]
     },
     "execution_count": 3,
     "metadata": {},
     "output_type": "execute_result"
    }
   ],
   "source": [
    "data = pd.read_csv(\"data/개방목록현황_11월.csv\", encoding=\"utf-8\", dtype=str)\n",
    "data = data.replace({np.nan : None})\n",
    "data.head()"
   ]
  },
  {
   "cell_type": "markdown",
   "metadata": {},
   "source": [
    "### 2. 데이터 파악하기"
   ]
  },
  {
   "cell_type": "code",
   "execution_count": 4,
   "metadata": {},
   "outputs": [
    {
     "name": "stdout",
     "output_type": "stream",
     "text": [
      "데이터의 행과 열은 (77419, 15)입니다.\n",
      "데이터의 컬럼명은 Index(['목록키', '목록유형', '목록명', '목록설명', '조회수', '분류체계', '기관코드', '기관명', '국가중점여부',\n",
      "       '표준데이터여부', '목록 등록일', '목록 수정일', '목록 URL', '다운로드_활용건수', '키워드'],\n",
      "      dtype='object')입니다.\n"
     ]
    }
   ],
   "source": [
    "print(f\"데이터의 행과 열은 {data.shape}입니다.\")\n",
    "print(f\"데이터의 컬럼명은 {data.columns}입니다.\")"
   ]
  },
  {
   "cell_type": "code",
   "execution_count": 5,
   "metadata": {},
   "outputs": [
    {
     "name": "stdout",
     "output_type": "stream",
     "text": [
      "고유한 목록키의 개수는 77419개입니다.\n"
     ]
    }
   ],
   "source": [
    "print(f\"고유한 목록키의 개수는 {len(data['목록키'].unique())}개입니다.\")"
   ]
  },
  {
   "cell_type": "code",
   "execution_count": 6,
   "metadata": {},
   "outputs": [
    {
     "data": {
      "text/plain": [
       "국가중점여부\n",
       "N    74480\n",
       "Y     2939\n",
       "Name: 목록키, dtype: int64"
      ]
     },
     "execution_count": 6,
     "metadata": {},
     "output_type": "execute_result"
    }
   ],
   "source": [
    "data.groupby([\"국가중점여부\"])['목록키'].count()"
   ]
  },
  {
   "cell_type": "code",
   "execution_count": 7,
   "metadata": {},
   "outputs": [
    {
     "data": {
      "text/plain": [
       "표준데이터여부\n",
       "N    77216\n",
       "Y      203\n",
       "Name: 목록키, dtype: int64"
      ]
     },
     "execution_count": 7,
     "metadata": {},
     "output_type": "execute_result"
    }
   ],
   "source": [
    "data.groupby([\"표준데이터여부\"])[\"목록키\"].count()"
   ]
  },
  {
   "cell_type": "code",
   "execution_count": 8,
   "metadata": {},
   "outputs": [],
   "source": [
    "data = data.drop([\"목록유형\", \"조회수\", \"분류체계\"], axis=1)"
   ]
  },
  {
   "cell_type": "code",
   "execution_count": 9,
   "metadata": {},
   "outputs": [],
   "source": [
    "data[data.columns] = data.apply(lambda x: x.str.strip())"
   ]
  },
  {
   "cell_type": "markdown",
   "metadata": {},
   "source": [
    "### 3. 데이터 변환하기"
   ]
  },
  {
   "cell_type": "markdown",
   "metadata": {},
   "source": [
    "#### 변환을 위한 함수 "
   ]
  },
  {
   "cell_type": "code",
   "execution_count": 10,
   "metadata": {},
   "outputs": [],
   "source": [
    "# namespace \n",
    "koor_def = \"http://vocab.datahub.kr/def/organization/\"\n",
    "koor_id = \"http://data.datahub.kr/id/organization/\"\n",
    "KOOR = Namespace(koor_def)\n",
    "\n",
    "dcat_id = \"http://data.datahub.kr/id/dcat/\"\n",
    "\n",
    "# function (convert data to rdf)\n",
    "def cell(store, s, p, df_col, datatype = None, lang = None):\n",
    "    if df_col != None:\n",
    "        store.add((s, p, Literal(df_col, datatype=datatype, lang = lang)))\n",
    "        \n",
    "def uri(store, s, p, df_col, objClass = None, objURI = None) :\n",
    "    if df_col != None :\n",
    "        obj = URIRef(objURI + df_col) \n",
    "        store.add((s, p, obj))\n",
    "        if objClass != None :\n",
    "            store.add((obj, RDF.type, objClass))"
   ]
  },
  {
   "cell_type": "code",
   "execution_count": 11,
   "metadata": {},
   "outputs": [
    {
     "name": "stderr",
     "output_type": "stream",
     "text": [
      "100%|██████████| 77419/77419 [00:14<00:00, 5312.87it/s]\n"
     ]
    },
    {
     "name": "stdout",
     "output_type": "stream",
     "text": [
      "총 701959 개의 트리플이 있습니다.\n",
      "CPU times: user 33.6 s, sys: 570 ms, total: 34.1 s\n",
      "Wall time: 34.7 s\n"
     ]
    },
    {
     "data": {
      "text/plain": [
       "<Graph identifier=Nea0038eac73d4815b12b6c710fd81f47 (<class 'rdflib.graph.Graph'>)>"
      ]
     },
     "execution_count": 11,
     "metadata": {},
     "output_type": "execute_result"
    }
   ],
   "source": [
    "%%time\n",
    "\n",
    "# generate Graph()\n",
    "g = Graph()\n",
    "g.bind(\"koor\", KOOR)\n",
    "g.bind(\"dcat\", DCAT)\n",
    "g.bind(\"dct\", DCTERMS)\n",
    "\n",
    "for idx, row in tqdm(data.iterrows(), total=data.shape[0]):\n",
    "    # base id \n",
    "    cat_core_uri = URIRef(dcat_id + \"national-cord-data-catalog\")\n",
    "    cat_stan_uri = URIRef(dcat_id + \"standard-data-catalog\")\n",
    "    ds_uri = URIRef(dcat_id + \"ds-\" +row[\"목록키\"])\n",
    "    dist_uri = URIRef(dcat_id + \"dt-\" + row[\"목록키\"])\n",
    "    orga_uri = URIRef(koor_id + row[\"기관코드\"])\n",
    "\n",
    "    # define uri type\n",
    "    g.add((cat_core_uri, RDF.type, DCAT.Catalog))\n",
    "    g.add((cat_stan_uri, RDF.type, DCAT.Catalog))\n",
    "    g.add((ds_uri, RDF.type, DCAT.Dataset))\n",
    "    g.add((dist_uri, RDF.type, DCAT.Distribution))\n",
    "    g.add((ds_uri, DCAT.distribution, dist_uri))\n",
    "\n",
    "    # dataset in catalog\n",
    "    if row[\"국가중점여부\"] == \"Y\":\n",
    "        g.add((cat_core_uri, DCAT.dataset, ds_uri))\n",
    "    \n",
    "    if row[\"표준데이터여부\"] == \"Y\":\n",
    "        g.add((cat_stan_uri, DCAT.dataset, ds_uri))\n",
    "\n",
    "    # catalog metadata\n",
    "    cell(g, cat_core_uri, DCTERMS.title, \"국가중점데이터 목록\")\n",
    "    cell(g, cat_stan_uri, DCTERMS.title, \"표준데이터 목록\")\n",
    "\n",
    "    # dataset metadata\n",
    "    cell(g, ds_uri, DCTERMS.title, row[\"목록명\"], lang=\"ko\")\n",
    "    cell(g, ds_uri, DCTERMS.description, row[\"목록설명\"], lang=\"ko\")\n",
    "    uri(g, ds_uri, DCTERMS.publisher, row[\"기관코드\"], objClass=KOOR.Organization, objURI=koor_id)\n",
    "    cell(g, orga_uri, RDFS.label, row[\"기관명\"], lang=\"ko\")\n",
    "    cell(g, ds_uri, DCTERMS.issued, row[\"목록 등록일\"], datatype=XSD.date)\n",
    "    cell(g, ds_uri, DCTERMS.modified, row[\"목록 수정일\"], datatype=XSD.date)\n",
    "    cell(g, dist_uri, DCAT.accessURL, row[\"목록 URL\"], datatype=XSD.anyURI)\n",
    "\n",
    "# the number of triples\n",
    "print(f\"총 {len(g)} 개의 트리플이 있습니다.\")\n",
    "\n",
    "# save as ttl\n",
    "g.serialize(destination=f\"data/data-go-kr-metadata-dcat.ttl\", format=\"ttl\")"
   ]
  },
  {
   "cell_type": "markdown",
   "metadata": {},
   "source": [
    "### 4. SPARQL 질의하기"
   ]
  },
  {
   "cell_type": "code",
   "execution_count": 115,
   "metadata": {},
   "outputs": [
    {
     "name": "stdout",
     "output_type": "stream",
     "text": [
      "고유한 데이터세트의 개수는 63468개입니다.\n"
     ]
    }
   ],
   "source": [
    "# 데이터세트 개수 구하기\n",
    "query = \"\"\"\n",
    "SELECT (COUNT(DISTINCT ?dataset) AS ?dataset_count)\n",
    "WHERE { \n",
    "    ?dataset a dcat:Dataset .\n",
    "}\n",
    "\"\"\"\n",
    "result = g.query(query)\n",
    "for row in result:\n",
    "    print(f\"고유한 데이터세트의 개수는 {row.dataset_count}개입니다.\")"
   ]
  },
  {
   "cell_type": "code",
   "execution_count": 116,
   "metadata": {},
   "outputs": [
    {
     "name": "stdout",
     "output_type": "stream",
     "text": [
      "표준데이터 목록의 데이터세트 개수는 147개입니다.\n",
      "국가중점데이터 목록의 데이터세트 개수는 2847개입니다.\n"
     ]
    }
   ],
   "source": [
    "# 표준데이터 카탈로그와 국가중점데이터 카탈로그에 속한 데이터세트 개수 구하기\n",
    "query = \"\"\"\n",
    "SELECT ?title (COUNT(DISTINCT ?dataset) AS ?dataset_count)\n",
    "WHERE { \n",
    "    ?catalog a dcat:Catalog ;\n",
    "        dcat:dataset ?dataset ;\n",
    "        dct:title ?title .\n",
    "} GROUP BY ?catalog\n",
    "\"\"\"\n",
    "result = g.query(query)\n",
    "for row in result:\n",
    "    print(f\"{row.title}의 데이터세트 개수는 {row.dataset_count}개입니다.\")"
   ]
  },
  {
   "cell_type": "code",
   "execution_count": 118,
   "metadata": {},
   "outputs": [
    {
     "name": "stdout",
     "output_type": "stream",
     "text": [
      "http://data.datahub.kr/id/dcat/ds-15087138 한국법제연구원_세계법령정보사이트DB 한국법제연구원 2021-09-02 2021-09-03 https://www.data.go.kr/data/15087138/fileData.do\n",
      "http://data.datahub.kr/id/dcat/ds-15033949 한국남부발전(주)_설계기술용역 시공도급계약 현황(삼척) 한국남부발전(주) 2021-03-19 2022-03-07 https://www.data.go.kr/data/15033949/fileData.do\n",
      "http://data.datahub.kr/id/dcat/ds-15086818 대구광역시_(비정형데이터)2021년 대구시 화보집4 대구광역시 2021-08-30 2021-08-30 https://www.data.go.kr/data/15086818/fileData.do\n",
      "http://data.datahub.kr/id/dcat/ds-15064648 건강보험심사평가원_보건의료빅데이터개방시스템_의료급여진료통계 건강보험심사평가원 2020-09-15 2021-09-22 https://www.data.go.kr/data/15064648/fileData.do\n",
      "http://data.datahub.kr/id/dcat/ds-15090954 강원도 원주시_원주시청홈페이지 관광포털메뉴 강원도 원주시 2021-09-29 2021-09-29 https://www.data.go.kr/data/15090954/fileData.do\n",
      "http://data.datahub.kr/id/dcat/ds-15039951 인천광역시 서구_식품접객업소 인천광역시 서구 2019-09-26 2021-09-09 https://www.data.go.kr/data/15039951/fileData.do\n",
      "http://data.datahub.kr/id/dcat/ds-15099429 경상남도 의령군_약국현황 경상남도 의령군 2022-03-18 2022-03-18 https://www.data.go.kr/data/15099429/fileData.do\n",
      "http://data.datahub.kr/id/dcat/ds-15048084 행정안전부_폭염 발생현황 행정안전부 2019-09-30 2021-10-21 https://www.data.go.kr/data/15048084/fileData.do\n",
      "http://data.datahub.kr/id/dcat/ds-3069922 고용노동부 (노동통계)지역별사업체노동력조사 고용노동부 2019-04-15 2021-09-09 https://www.data.go.kr/data/3069922/fileData.do\n",
      "http://data.datahub.kr/id/dcat/ds-15012779 한국남부발전(주)_풍황계측기 설치현황 한국남부발전(주) 2021-08-17 2022-08-16 https://www.data.go.kr/data/15012779/fileData.do\n"
     ]
    }
   ],
   "source": [
    "# 데이터세트의 메타데이터 구하기\n",
    "query = \"\"\"\n",
    "SELECT DISTINCT ?dataset ?title ?orgName ?issued ?modified ?accessURL\n",
    "WHERE { \n",
    "    ?dataset a dcat:Dataset ;\n",
    "        dct:title ?title ;\n",
    "        dct:publisher ?orgURI ;\n",
    "        dct:issued ?issued ;\n",
    "        dct:modified ?modified ;\n",
    "        dcat:distribution ?distribution .\n",
    "    ?orgURI rdfs:label ?orgName .\n",
    "    ?distribution dcat:accessURL ?accessURL .\n",
    "} LIMIT 10\n",
    "\"\"\"\n",
    "result = g.query(query)\n",
    "for row in result:\n",
    "    print(row.dataset, row.title, row.orgName, row.issued, row.modified, row.accessURL)"
   ]
  },
  {
   "cell_type": "code",
   "execution_count": 120,
   "metadata": {},
   "outputs": [
    {
     "name": "stdout",
     "output_type": "stream",
     "text": [
      "서울특별시의 데이터세트 개수는 2460개입니다.\n",
      "제주특별자치도의 데이터세트 개수는 1289개입니다.\n",
      "동북아역사재단의 데이터세트 개수는 1028개입니다.\n",
      "경기도의 데이터세트 개수는 1015개입니다.\n",
      "대전광역시의 데이터세트 개수는 991개입니다.\n",
      "국토교통부의 데이터세트 개수는 955개입니다.\n",
      "인천광역시의 데이터세트 개수는 780개입니다.\n",
      "행정안전부의 데이터세트 개수는 779개입니다.\n",
      "경상남도의 데이터세트 개수는 758개입니다.\n",
      "국가철도공단의 데이터세트 개수는 749개입니다.\n"
     ]
    }
   ],
   "source": [
    "# 데이터세트를 제공하는 상위 10개 기관 구하기\n",
    "query = \"\"\"\n",
    "SELECT ?orgName (COUNT(DISTINCT ?dataset) AS ?dataset_count)\n",
    "WHERE { \n",
    "    ?dataset a dcat:Dataset ;\n",
    "        dct:publisher ?org .\n",
    "    ?org rdfs:label ?orgName .\n",
    "} GROUP BY ?org\n",
    "ORDER BY DESC(?dataset_count)\n",
    "LIMIT 10\n",
    "\"\"\"\n",
    "result = g.query(query)\n",
    "for row in result:\n",
    "    print(f\"{row.orgName}의 데이터세트 개수는 {row.dataset_count}개입니다.\")"
   ]
  },
  {
   "cell_type": "code",
   "execution_count": null,
   "metadata": {},
   "outputs": [],
   "source": []
  }
 ],
 "metadata": {
  "kernelspec": {
   "display_name": "Python 3.9.13 64-bit",
   "language": "python",
   "name": "python3"
  },
  "language_info": {
   "codemirror_mode": {
    "name": "ipython",
    "version": 3
   },
   "file_extension": ".py",
   "mimetype": "text/x-python",
   "name": "python",
   "nbconvert_exporter": "python",
   "pygments_lexer": "ipython3",
   "version": "3.9.16"
  },
  "orig_nbformat": 4,
  "vscode": {
   "interpreter": {
    "hash": "b0fa6594d8f4cbf19f97940f81e996739fb7646882a419484c72d19e05852a7e"
   }
  }
 },
 "nbformat": 4,
 "nbformat_minor": 2
}
